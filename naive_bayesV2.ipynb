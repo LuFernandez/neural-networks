{
  "nbformat": 4,
  "nbformat_minor": 0,
  "metadata": {
    "colab": {
      "name": "naive-bayesV2.ipynb",
      "provenance": [],
      "collapsed_sections": [],
      "authorship_tag": "ABX9TyN8UguwlWwJ90XjyeS3NDdK",
      "include_colab_link": true
    },
    "kernelspec": {
      "name": "python3",
      "display_name": "Python 3"
    }
  },
  "cells": [
    {
      "cell_type": "markdown",
      "metadata": {
        "id": "view-in-github",
        "colab_type": "text"
      },
      "source": [
        "<a href=\"https://colab.research.google.com/github/LuFernandez/neural-networks/blob/master/naive_bayesV2.ipynb\" target=\"_parent\"><img src=\"https://colab.research.google.com/assets/colab-badge.svg\" alt=\"Open In Colab\"/></a>"
      ]
    },
    {
      "cell_type": "markdown",
      "metadata": {
        "id": "TEtsMMbZ7huw",
        "colab_type": "text"
      },
      "source": [
        "# Naive Bayes\n",
        "## Redes Neuronales\n",
        "\n",
        "© 2020 Lucero G. Fernandez\n",
        "\n"
      ]
    },
    {
      "cell_type": "code",
      "metadata": {
        "id": "D9Mq_BY17kXO",
        "colab_type": "code",
        "colab": {}
      },
      "source": [
        "%load_ext autoreload\n",
        "%autoreload 2\n",
        "from IPython.display import clear_output\n",
        "import pandas as pd\n",
        "import numpy as np\n",
        "from sklearn.model_selection import train_test_split"
      ],
      "execution_count": 0,
      "outputs": []
    },
    {
      "cell_type": "markdown",
      "metadata": {
        "id": "LN80P6KV7lfz",
        "colab_type": "text"
      },
      "source": [
        "### Carga de datos\n"
      ]
    },
    {
      "cell_type": "code",
      "metadata": {
        "id": "0tabqc_l7qti",
        "colab_type": "code",
        "colab": {}
      },
      "source": [
        "! wget \"https://raw.githubusercontent.com/rn-2019-itba/Clase-2--Hiperparametros-y-Tecnicas-de-Validacion/master/Opcional/data/emails.csv\"\n",
        "clear_output()"
      ],
      "execution_count": 0,
      "outputs": []
    },
    {
      "cell_type": "code",
      "metadata": {
        "id": "zCHha6as8SHJ",
        "colab_type": "code",
        "colab": {}
      },
      "source": [
        "dataset = pd.read_csv('emails.csv')"
      ],
      "execution_count": 0,
      "outputs": []
    },
    {
      "cell_type": "markdown",
      "metadata": {
        "id": "MmYkOz9xBtDu",
        "colab_type": "text"
      },
      "source": [
        "Se tienen 5728 emails de dos tipos: text y spam. En text están las palabras y en spam si es o no spam (1==spam)"
      ]
    },
    {
      "cell_type": "code",
      "metadata": {
        "id": "zdBGMi9jBYzQ",
        "colab_type": "code",
        "colab": {}
      },
      "source": [
        "#for i in range(len(dataset['spam'])):\n",
        "#  if dataset.spam[i]==1:\n",
        " #   print(dataset.spam[i])\n",
        "\n",
        " #la cantidad de emails que son spam\n",
        " spam_count=np.sum(dataset.spam)"
      ],
      "execution_count": 0,
      "outputs": []
    },
    {
      "cell_type": "markdown",
      "metadata": {
        "id": "2kgmprQMA6On",
        "colab_type": "text"
      },
      "source": [
        "Probabilidad a priori de que sea spam:"
      ]
    },
    {
      "cell_type": "code",
      "metadata": {
        "id": "aCzpggpI8tx_",
        "colab_type": "code",
        "outputId": "c32e6f18-bc8b-4bb8-9646-50b39e613e4b",
        "colab": {
          "base_uri": "https://localhost:8080/",
          "height": 34
        }
      },
      "source": [
        "print(spam_count/len(dataset)*100)"
      ],
      "execution_count": 0,
      "outputs": [
        {
          "output_type": "stream",
          "text": [
            "23.88268156424581\n"
          ],
          "name": "stdout"
        }
      ]
    },
    {
      "cell_type": "markdown",
      "metadata": {
        "id": "FoYBRPT2EmqL",
        "colab_type": "text"
      },
      "source": [
        "#Preprocesamiento de datos\n"
      ]
    },
    {
      "cell_type": "code",
      "metadata": {
        "id": "gSMdehKv8t0z",
        "colab_type": "code",
        "colab": {}
      },
      "source": [
        "import nltk\n",
        "from nltk.tokenize import word_tokenize\n",
        "from nltk.stem import WordNetLemmatizer\n",
        "from nltk.corpus import stopwords\n",
        "from nltk.stem import PorterStemmer"
      ],
      "execution_count": 0,
      "outputs": []
    },
    {
      "cell_type": "code",
      "metadata": {
        "id": "1Soerxo58t3k",
        "colab_type": "code",
        "colab": {}
      },
      "source": [
        "nltk.download('punkt')\n",
        "nltk.download('wordnet')\n",
        "lemmatizer = WordNetLemmatizer()\n",
        "nltk.download('stopwords')\n",
        "stemmer = PorterStemmer()\n",
        "clear_output()"
      ],
      "execution_count": 0,
      "outputs": []
    },
    {
      "cell_type": "markdown",
      "metadata": {
        "id": "2v8mHFNL9k-p",
        "colab_type": "text"
      },
      "source": [
        "\n",
        "##\\#1 tokenization, lemmatization, stop-words, stemming"
      ]
    },
    {
      "cell_type": "code",
      "metadata": {
        "id": "aOPty9tb8t5t",
        "colab_type": "code",
        "colab": {}
      },
      "source": [
        "emails_raw=dataset.text\n",
        "emails_filtered=list()\n",
        "\n",
        "for n in range(len(dataset)):\n",
        "  tok = word_tokenize(emails_raw[n])  #tokenization\n",
        "  lem = [lemmatizer.lemmatize(x,pos = 'v') for x in tok] #lemmatization\n",
        "  stop = [x for x in lem if x not in stopwords.words('english')] #stop words\n",
        "  stem = [stemmer.stem(x) for x in stop] #stemming\n",
        "  alpha = [x for x in stem if x.isalpha()]  #filter non words\n",
        "\n",
        "  emails_filtered.append(\" \".join(alpha))\n",
        "\n",
        "\n"
      ],
      "execution_count": 0,
      "outputs": []
    },
    {
      "cell_type": "markdown",
      "metadata": {
        "id": "h4BmI_cnfJ0x",
        "colab_type": "text"
      },
      "source": [
        "Guardo en disco"
      ]
    },
    {
      "cell_type": "code",
      "metadata": {
        "id": "TE29zgnz8t8g",
        "colab_type": "code",
        "colab": {}
      },
      "source": [
        "import pickle\n",
        "\n",
        "with open('em_filt.pck', 'wb') as fp:\n",
        "    pickle.dump(emails_filtered, fp)"
      ],
      "execution_count": 0,
      "outputs": []
    },
    {
      "cell_type": "code",
      "metadata": {
        "id": "LH-yEv5y8t_-",
        "colab_type": "code",
        "colab": {}
      },
      "source": [
        "with open ('em_filt.pck', 'rb') as fp:\n",
        "    itemlist = pickle.load(fp)"
      ],
      "execution_count": 0,
      "outputs": []
    },
    {
      "cell_type": "markdown",
      "metadata": {
        "id": "bLaXmjopiYhM",
        "colab_type": "text"
      },
      "source": [
        "###TfidVectorizer\n"
      ]
    },
    {
      "cell_type": "code",
      "metadata": {
        "id": "Z4AQMsNuial6",
        "colab_type": "code",
        "outputId": "f632d083-41e8-456d-cabf-6aba0e79b002",
        "colab": {
          "base_uri": "https://localhost:8080/",
          "height": 34
        }
      },
      "source": [
        "max_df=[.5, .6, .7, .75, .8, .85, .9]\n",
        "min_df=[10, 20, 30, 40, 50, 75, 100, 250]\n",
        "alpha=[.001, .01, .1, .5, 1, 2]\n",
        "\n",
        "from sklearn.feature_extraction.text import CountVectorizer\n",
        "from sklearn.feature_extraction.text import TfidfVectorizer\n",
        "from sklearn.naive_bayes import MultinomialNB\n",
        "\n",
        "\n",
        "\n",
        "#Count Vectorizer\n",
        "\n",
        "# count_vect = CountVectorizer(max_df=.8,min_df=10)\n",
        "# raw_data=count_vect.fit_transform(emails_filtered)\n",
        "# raw_data.toarray()\n",
        " \n",
        "chosen_alpha=0\n",
        "chosen_maxdf=0\n",
        "chosen_mindf=0\n",
        "maximum_porc=0\n",
        "for minimo in min_df:\n",
        "  for maximo in max_df:\n",
        "\n",
        "    #TfidVectorizer\n",
        "    tfidf_vect = TfidfVectorizer(max_df=maximo,min_df=minimo)\n",
        "    raw_data = tfidf_vect.fit_transform(itemlist)\n",
        "    vocabulary=tfidf_vect.get_feature_names()\n",
        "\n",
        "    #Separo en train, validation, y test\n",
        "    X_train, X_testprima, y_train, y_testprima = train_test_split(raw_data, dataset['spam'], test_size=0.80)\n",
        "    X_val, X_test, y_val, y_test = train_test_split(X_testprima, y_testprima, test_size=0.5)\n",
        "\n",
        "    #entreno modelo\n",
        "    for alfa in alpha:\n",
        "      clf = MultinomialNB(alpha=alfa)\n",
        "      clf.fit(X_train, y_train)\n",
        "      #Analizo la precisión del modelo, con X_val e y_val\n",
        "      porc=sum(np.array(clf.predict(X_val.toarray()))==np.array(y_val))/len(y_val)*100\n",
        "      #print(porc)\n",
        "      if porc>maximum_porc:\n",
        "        maximum_porc=porc  #guardo valores\n",
        "        chosen_alpha=alfa\n",
        "        chosen_maxdf=maximo\n",
        "        chosen_mindf=minimo\n",
        "\n",
        "\n",
        "print(maximum_porc, chosen_alpha, chosen_maxdf, chosen_mindf)\n"
      ],
      "execution_count": 0,
      "outputs": [
        {
          "output_type": "stream",
          "text": [
            "98.77782627673504 0.1 0.5 10\n"
          ],
          "name": "stdout"
        }
      ]
    },
    {
      "cell_type": "markdown",
      "metadata": {
        "id": "FF9EymEspq-Z",
        "colab_type": "text"
      },
      "source": [
        "###Entreno modelo de Bayes\n"
      ]
    },
    {
      "cell_type": "code",
      "metadata": {
        "id": "q1cHKozu8l9B",
        "colab_type": "code",
        "colab": {}
      },
      "source": [
        "#print(np.shape(dataset['text']))\n",
        "#print(np.shape(X_train))\n",
        "#print(np.shape(X_testprima))\n",
        "\n",
        "#print(np.shape(dataset['spam']))\n",
        "#print(np.shape(y_train))\n",
        "#print(np.shape(y_testprima))"
      ],
      "execution_count": 0,
      "outputs": []
    }
  ]
}