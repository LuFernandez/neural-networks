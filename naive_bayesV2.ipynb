{
  "nbformat": 4,
  "nbformat_minor": 0,
  "metadata": {
    "colab": {
      "name": "naive-bayesV2.ipynb",
      "provenance": [],
      "collapsed_sections": [],
      "toc_visible": true,
      "authorship_tag": "ABX9TyNPHCrHbcX/dFBwG2V4JHTQ",
      "include_colab_link": true
    },
    "kernelspec": {
      "name": "python3",
      "display_name": "Python 3"
    }
  },
  "cells": [
    {
      "cell_type": "markdown",
      "metadata": {
        "id": "view-in-github",
        "colab_type": "text"
      },
      "source": [
        "<a href=\"https://colab.research.google.com/github/LuFernandez/neural-networks/blob/master/naive_bayesV2.ipynb\" target=\"_parent\"><img src=\"https://colab.research.google.com/assets/colab-badge.svg\" alt=\"Open In Colab\"/></a>"
      ]
    },
    {
      "cell_type": "markdown",
      "metadata": {
        "id": "TEtsMMbZ7huw",
        "colab_type": "text"
      },
      "source": [
        "# Naive Bayes\n",
        "## Redes Neuronales\n",
        "\n",
        "© 2020 Lucero G. Fernandez\n",
        "\n"
      ]
    },
    {
      "cell_type": "code",
      "metadata": {
        "id": "D9Mq_BY17kXO",
        "colab_type": "code",
        "colab": {}
      },
      "source": [
        "%load_ext autoreload\n",
        "%autoreload 2\n",
        "from IPython.display import clear_output\n",
        "import pandas as pd\n",
        "import numpy as np\n",
        "from sklearn.model_selection import train_test_split"
      ],
      "execution_count": 0,
      "outputs": []
    },
    {
      "cell_type": "markdown",
      "metadata": {
        "id": "LN80P6KV7lfz",
        "colab_type": "text"
      },
      "source": [
        "### Carga de datos\n"
      ]
    },
    {
      "cell_type": "code",
      "metadata": {
        "id": "0tabqc_l7qti",
        "colab_type": "code",
        "colab": {}
      },
      "source": [
        "! wget \"https://raw.githubusercontent.com/rn-2019-itba/Clase-2--Hiperparametros-y-Tecnicas-de-Validacion/master/Opcional/data/emails.csv\"\n",
        "clear_output()"
      ],
      "execution_count": 0,
      "outputs": []
    },
    {
      "cell_type": "code",
      "metadata": {
        "id": "zCHha6as8SHJ",
        "colab_type": "code",
        "colab": {}
      },
      "source": [
        "dataset = pd.read_csv('emails.csv')"
      ],
      "execution_count": 0,
      "outputs": []
    },
    {
      "cell_type": "markdown",
      "metadata": {
        "id": "MmYkOz9xBtDu",
        "colab_type": "text"
      },
      "source": [
        "Se tienen 5728 emails de dos tipos: text y spam. En text están las palabras y en spam si es o no spam (1==spam)"
      ]
    },
    {
      "cell_type": "code",
      "metadata": {
        "id": "zdBGMi9jBYzQ",
        "colab_type": "code",
        "colab": {}
      },
      "source": [
        "#for i in range(len(dataset['spam'])):\n",
        "#  if dataset.spam[i]==1:\n",
        " #   print(dataset.spam[i])\n",
        "\n",
        " #la cantidad de emails que son spam\n",
        " spam_count=np.sum(dataset.spam)"
      ],
      "execution_count": 0,
      "outputs": []
    },
    {
      "cell_type": "markdown",
      "metadata": {
        "id": "2kgmprQMA6On",
        "colab_type": "text"
      },
      "source": [
        "Probabilidad a priori de que sea spam:"
      ]
    },
    {
      "cell_type": "code",
      "metadata": {
        "id": "aCzpggpI8tx_",
        "colab_type": "code",
        "outputId": "d5f73626-f45d-4644-d043-c649d67726ff",
        "colab": {
          "base_uri": "https://localhost:8080/",
          "height": 34
        }
      },
      "source": [
        "print(spam_count/len(dataset)*100)"
      ],
      "execution_count": 5,
      "outputs": [
        {
          "output_type": "stream",
          "text": [
            "23.88268156424581\n"
          ],
          "name": "stdout"
        }
      ]
    },
    {
      "cell_type": "markdown",
      "metadata": {
        "id": "FoYBRPT2EmqL",
        "colab_type": "text"
      },
      "source": [
        "#Preprocesamiento de datos\n"
      ]
    },
    {
      "cell_type": "code",
      "metadata": {
        "id": "gSMdehKv8t0z",
        "colab_type": "code",
        "colab": {}
      },
      "source": [
        "import nltk\n",
        "from nltk.tokenize import word_tokenize\n",
        "from nltk.stem import WordNetLemmatizer\n",
        "from nltk.corpus import stopwords\n",
        "from nltk.stem import PorterStemmer"
      ],
      "execution_count": 0,
      "outputs": []
    },
    {
      "cell_type": "code",
      "metadata": {
        "id": "1Soerxo58t3k",
        "colab_type": "code",
        "colab": {}
      },
      "source": [
        "nltk.download('punkt')\n",
        "nltk.download('wordnet')\n",
        "lemmatizer = WordNetLemmatizer()\n",
        "nltk.download('stopwords')\n",
        "stemmer = PorterStemmer()\n",
        "clear_output()"
      ],
      "execution_count": 0,
      "outputs": []
    },
    {
      "cell_type": "code",
      "metadata": {
        "id": "O_yXnOCsWyLw",
        "colab_type": "code",
        "colab": {}
      },
      "source": [
        "from sklearn.feature_extraction.text import CountVectorizer\n",
        "from sklearn.feature_extraction.text import TfidfVectorizer\n",
        "from sklearn.naive_bayes import MultinomialNB"
      ],
      "execution_count": 0,
      "outputs": []
    },
    {
      "cell_type": "markdown",
      "metadata": {
        "id": "2v8mHFNL9k-p",
        "colab_type": "text"
      },
      "source": [
        "\n",
        "##\\#1 tokenization, lemmatization, stop-words, stemming"
      ]
    },
    {
      "cell_type": "code",
      "metadata": {
        "id": "aOPty9tb8t5t",
        "colab_type": "code",
        "colab": {}
      },
      "source": [
        "emails_raw=dataset.text\n",
        "emails_filtered=list()\n",
        "\n",
        "for n in range(len(dataset)):\n",
        "  tok = word_tokenize(emails_raw[n])  #tokenization\n",
        "  lem = [lemmatizer.lemmatize(x,pos = 'v') for x in tok] #lemmatization\n",
        "  stop = [x for x in lem if x not in stopwords.words('english')] #stop words\n",
        "  stem = [stemmer.stem(x) for x in stop] #stemming\n",
        "  alpha = [x for x in stem if x.isalpha()]  #filter non words\n",
        "\n",
        "  emails_filtered.append(\" \".join(alpha))\n",
        "\n",
        "\n"
      ],
      "execution_count": 0,
      "outputs": []
    },
    {
      "cell_type": "markdown",
      "metadata": {
        "id": "h4BmI_cnfJ0x",
        "colab_type": "text"
      },
      "source": [
        "Guardo en disco"
      ]
    },
    {
      "cell_type": "code",
      "metadata": {
        "id": "TE29zgnz8t8g",
        "colab_type": "code",
        "colab": {}
      },
      "source": [
        "import pickle\n",
        "\n",
        "with open('em_filt.pck', 'wb') as fp:\n",
        "    pickle.dump(emails_filtered, fp)"
      ],
      "execution_count": 0,
      "outputs": []
    },
    {
      "cell_type": "code",
      "metadata": {
        "id": "LH-yEv5y8t_-",
        "colab_type": "code",
        "colab": {}
      },
      "source": [
        "with open ('em_filt.pck', 'rb') as fp:\n",
        "    itemlist = pickle.load(fp)"
      ],
      "execution_count": 0,
      "outputs": []
    },
    {
      "cell_type": "markdown",
      "metadata": {
        "id": "bLaXmjopiYhM",
        "colab_type": "text"
      },
      "source": [
        "###TfidVectorizer\n"
      ]
    },
    {
      "cell_type": "code",
      "metadata": {
        "id": "Z4AQMsNuial6",
        "colab_type": "code",
        "colab": {}
      },
      "source": [
        "max_df=[.5, .6, .7, .75, .8, .85, .9]\n",
        "min_df=[10, 20, 30, 40, 50, 75, 100, 250]\n",
        "alpha=[.001, .01, .1, .5, 1.0, 2.0]\n",
        "\n",
        "\n",
        "chosen_alpha=0\n",
        "chosen_maxdf=0\n",
        "chosen_mindf=0\n",
        "maximum_porc=0\n",
        "for minimo in min_df:\n",
        "  for maximo in max_df:\n",
        "\n",
        "    #TfidVectorizer\n",
        "    tfidf_vect = TfidfVectorizer(max_df=maximo,min_df=minimo)\n",
        "    raw_data = tfidf_vect.fit_transform(itemlist)\n",
        "\n",
        "    #Separo en train, validation, y test\n",
        "    X_train, X_testprima, y_train, y_testprima = train_test_split(raw_data, dataset['spam'], test_size=0.90)\n",
        "    X_val, X_test, y_val, y_test = train_test_split(X_testprima, y_testprima, test_size=0.5)\n",
        "\n",
        "    #entreno modelo\n",
        "    for alfa in alpha:\n",
        "      clf = MultinomialNB(alpha=alfa)\n",
        "      clf.fit(X_train, y_train)\n",
        "      #Analizo la precisión del modelo, con X_val e y_val\n",
        "      porc=sum(np.array(clf.predict(X_val.toarray()))==np.array(y_val))/len(y_val)*100\n",
        "      #print(porc)\n",
        "      if porc>maximum_porc:\n",
        "        maximum_porc=porc  #guardo valores\n",
        "        chosen_alpha=alfa\n",
        "        chosen_maxdf=maximo\n",
        "        chosen_mindf=minimo"
      ],
      "execution_count": 0,
      "outputs": []
    },
    {
      "cell_type": "code",
      "metadata": {
        "id": "T2xDk1i3Jtkh",
        "colab_type": "code",
        "outputId": "cafe108b-77de-4a41-99b2-c647fd8cf85f",
        "colab": {
          "base_uri": "https://localhost:8080/",
          "height": 134
        }
      },
      "source": [
        "print(\"Con tokenization, lemmatization, stop-words y stemming\")\n",
        "print(\"con TfidVectorizer\")\n",
        "print(\"alpha=\", chosen_alpha)\n",
        "print(\"max_df=\", chosen_maxdf)\n",
        "print(\"min_df=\", chosen_mindf)\n",
        "print(\"\")\n",
        "print(\"Rendimiento=\", maximum_porc)"
      ],
      "execution_count": 13,
      "outputs": [
        {
          "output_type": "stream",
          "text": [
            "Con tokenization, lemmatization, stop-words y stemming\n",
            "con TfidVectorizer\n",
            "alpha= 0.01\n",
            "max_df= 0.7\n",
            "min_df= 10\n",
            "\n",
            "Rendimiento= 98.44840961986036\n"
          ],
          "name": "stdout"
        }
      ]
    },
    {
      "cell_type": "markdown",
      "metadata": {
        "colab_type": "text",
        "id": "H2ssd39FSf7P"
      },
      "source": [
        "###CountVectorizer\n"
      ]
    },
    {
      "cell_type": "code",
      "metadata": {
        "colab_type": "code",
        "id": "U9NMHOqHSf7V",
        "colab": {}
      },
      "source": [
        "chosen_alpha=0\n",
        "chosen_maxdf=0\n",
        "chosen_mindf=0\n",
        "maximum_porc=0\n",
        "for minimo in min_df:\n",
        "  for maximo in max_df:\n",
        "\n",
        "    #Count Vectorizer\n",
        "\n",
        "    count_vect = CountVectorizer(max_df=maximo, min_df=minimo)\n",
        "    raw_data=count_vect.fit_transform(emails_filtered)\n",
        "    raw_data.toarray()\n",
        "\n",
        "    #Separo en train, validation, y test\n",
        "    X_train, X_testprima, y_train, y_testprima = train_test_split(raw_data, dataset['spam'], test_size=0.90)\n",
        "    X_val, X_test, y_val, y_test = train_test_split(X_testprima, y_testprima, test_size=0.5)\n",
        "\n",
        "    #entreno modelo\n",
        "    for alfa in alpha:\n",
        "      clf = MultinomialNB(alpha=alfa)\n",
        "      clf.fit(X_train, y_train)\n",
        "      #Analizo la precisión del modelo, con X_val e y_val\n",
        "      porc=sum(np.array(clf.predict(X_val.toarray()))==np.array(y_val))/len(y_val)*100\n",
        "      if porc>maximum_porc:\n",
        "        maximum_porc=porc  #guardo valores\n",
        "        chosen_alpha=alfa\n",
        "        chosen_maxdf=maximo\n",
        "        chosen_mindf=minimo"
      ],
      "execution_count": 0,
      "outputs": []
    },
    {
      "cell_type": "code",
      "metadata": {
        "colab_type": "code",
        "outputId": "2b4096d7-f4c6-4eda-b407-cd31d212baa5",
        "id": "6t5LQ58USf7d",
        "colab": {
          "base_uri": "https://localhost:8080/",
          "height": 134
        }
      },
      "source": [
        "print(\"Con tokenization, lemmatization, stop-words y stemming\")\n",
        "print(\"con CountVectorizer\")\n",
        "print(\"alpha=\", chosen_alpha)\n",
        "print(\"max_df=\", chosen_maxdf)\n",
        "print(\"min_df=\", chosen_mindf)\n",
        "print(\"\")\n",
        "print(\"Rendimiento=\", maximum_porc)"
      ],
      "execution_count": 15,
      "outputs": [
        {
          "output_type": "stream",
          "text": [
            "Con tokenization, lemmatization, stop-words y stemming\n",
            "con CountVectorizer\n",
            "alpha= 0.1\n",
            "max_df= 0.75\n",
            "min_df= 10\n",
            "\n",
            "Rendimiento= 98.56477889837083\n"
          ],
          "name": "stdout"
        }
      ]
    },
    {
      "cell_type": "markdown",
      "metadata": {
        "colab_type": "text",
        "id": "wKVyTwraXEYn"
      },
      "source": [
        "\n",
        "##\\#2 tokenization, stop-words, stemming"
      ]
    },
    {
      "cell_type": "code",
      "metadata": {
        "colab_type": "code",
        "id": "SjXc_BJYXEYq",
        "colab": {}
      },
      "source": [
        "emails_raw=dataset.text\n",
        "emails_filtered=list()\n",
        "\n",
        "for n in range(len(dataset)):\n",
        "  tok = word_tokenize(emails_raw[n])  #tokenization\n",
        "  #lem = [lemmatizer.lemmatize(x,pos = 'v') for x in tok] #lemmatization\n",
        "  stop = [x for x in tok if x not in stopwords.words('english')] #stop words\n",
        "  stem = [stemmer.stem(x) for x in stop] #stemming\n",
        "  alpha = [x for x in stem if x.isalpha()]  #filter non words\n",
        "\n",
        "  emails_filtered.append(\" \".join(alpha))\n",
        "\n",
        "\n"
      ],
      "execution_count": 0,
      "outputs": []
    },
    {
      "cell_type": "markdown",
      "metadata": {
        "colab_type": "text",
        "id": "eGE8myp7XEYw"
      },
      "source": [
        "###TfidVectorizer\n"
      ]
    },
    {
      "cell_type": "code",
      "metadata": {
        "colab_type": "code",
        "id": "Uc1PdNUxXEYx",
        "colab": {}
      },
      "source": [
        "max_df=[.5, .6, .7, .75, .8, .85, .9]\n",
        "min_df=[10, 20, 30, 40, 50, 75, 100]\n",
        "alpha=[.001, .01, .1, .5, 1, 2]\n",
        "\n",
        "\n",
        "chosen_alpha=0\n",
        "chosen_maxdf=0\n",
        "chosen_mindf=0\n",
        "maximum_porc=0\n",
        "for minimo in min_df:\n",
        "  for maximo in max_df:\n",
        "\n",
        "    #TfidVectorizer\n",
        "    tfidf_vect = TfidfVectorizer(max_df=maximo,min_df=minimo)\n",
        "    raw_data = tfidf_vect.fit_transform(emails_filtered)\n",
        "\n",
        "    #Separo en train, validation, y test\n",
        "    X_train, X_testprima, y_train, y_testprima = train_test_split(raw_data, dataset['spam'], test_size=0.90)\n",
        "    X_val, X_test, y_val, y_test = train_test_split(X_testprima, y_testprima, test_size=0.5)\n",
        "\n",
        "    #entreno modelo\n",
        "    for alfa in alpha:\n",
        "      clf = MultinomialNB(alpha=alfa)\n",
        "      clf.fit(X_train, y_train)\n",
        "      #Analizo la precisión del modelo, con X_val e y_val\n",
        "      porc=sum(np.array(clf.predict(X_val.toarray()))==np.array(y_val))/len(y_val)*100\n",
        "      #print(porc)\n",
        "      if porc>maximum_porc:\n",
        "        maximum_porc=porc  #guardo valores\n",
        "        chosen_alpha=alfa\n",
        "        chosen_maxdf=maximo\n",
        "        chosen_mindf=minimo"
      ],
      "execution_count": 0,
      "outputs": []
    },
    {
      "cell_type": "code",
      "metadata": {
        "colab_type": "code",
        "outputId": "46b2b2de-a445-4561-876a-238744481411",
        "id": "kckkAtJeXEY1",
        "colab": {
          "base_uri": "https://localhost:8080/",
          "height": 134
        }
      },
      "source": [
        "print(\"Con tokenization, stop-words y stemming\")\n",
        "print(\"con TfidVectorizer\")\n",
        "print(\"alpha=\", chosen_alpha)\n",
        "print(\"max_df=\", chosen_maxdf)\n",
        "print(\"min_df=\", chosen_mindf)\n",
        "print(\"\")\n",
        "print(\"Rendimiento=\", maximum_porc)"
      ],
      "execution_count": 20,
      "outputs": [
        {
          "output_type": "stream",
          "text": [
            "Con tokenization, stop-words y stemming\n",
            "con TfidVectorizer\n",
            "alpha= 0.1\n",
            "max_df= 0.75\n",
            "min_df= 30\n",
            "\n",
            "Rendimiento= 98.09930178432894\n"
          ],
          "name": "stdout"
        }
      ]
    },
    {
      "cell_type": "markdown",
      "metadata": {
        "colab_type": "text",
        "id": "fkWpD-r8XEY5"
      },
      "source": [
        "###CountVectorizer\n"
      ]
    },
    {
      "cell_type": "code",
      "metadata": {
        "colab_type": "code",
        "id": "v3rP91ihXEY6",
        "colab": {}
      },
      "source": [
        "max_df=[.5, .6, .7, .75, .8, .85, .9]\n",
        "min_df=[10, 20, 30, 40, 50, 75, 100]\n",
        "alpha=[.001, .01, .1, .5, 1.0, 2.0]\n",
        "chosen_alpha=0\n",
        "chosen_maxdf=0\n",
        "chosen_mindf=0\n",
        "maximum_porc=0\n",
        "for minimo in min_df:\n",
        "  for maximo in max_df:\n",
        "\n",
        "    #Count Vectorizer\n",
        "\n",
        "    count_vect = CountVectorizer(max_df=maximo, min_df=minimo)\n",
        "    raw_data=count_vect.fit_transform(emails_filtered)\n",
        "    raw_data.toarray()\n",
        "\n",
        "    #Separo en train, validation, y test\n",
        "    X_train, X_testprima, y_train, y_testprima = train_test_split(raw_data, dataset['spam'], test_size=0.90)\n",
        "    X_val, X_test, y_val, y_test = train_test_split(X_testprima, y_testprima, test_size=0.5)\n",
        "\n",
        "    #entreno modelo\n",
        "    for alfa in alpha:\n",
        "      clf = MultinomialNB(alpha=alfa)\n",
        "      clf.fit(X_train, y_train)\n",
        "      #Analizo la precisión del modelo, con X_val e y_val\n",
        "      porc=sum(np.array(clf.predict(X_val.toarray()))==np.array(y_val))/len(y_val)*100\n",
        "      if porc>maximum_porc:\n",
        "        maximum_porc=porc  #guardo valores\n",
        "        chosen_alpha=alfa\n",
        "        chosen_maxdf=maximo\n",
        "        chosen_mindf=minimo"
      ],
      "execution_count": 0,
      "outputs": []
    },
    {
      "cell_type": "code",
      "metadata": {
        "colab_type": "code",
        "outputId": "eddbe8f6-36d4-435a-caaf-2568da276ebc",
        "id": "0NIlJNBSXEY8",
        "colab": {
          "base_uri": "https://localhost:8080/",
          "height": 134
        }
      },
      "source": [
        "print(\"Con tokenization, stop-words y stemming\")\n",
        "print(\"con CountVectorizer\")\n",
        "print(\"alpha=\", chosen_alpha)\n",
        "print(\"max_df=\", chosen_maxdf)\n",
        "print(\"min_df=\", chosen_mindf)\n",
        "print(\"\")\n",
        "print(\"Rendimiento=\", maximum_porc)"
      ],
      "execution_count": 22,
      "outputs": [
        {
          "output_type": "stream",
          "text": [
            "Con tokenization, stop-words y stemming\n",
            "con CountVectorizer\n",
            "alpha= 0.1\n",
            "max_df= 0.5\n",
            "min_df= 10\n",
            "\n",
            "Rendimiento= 98.48719937936384\n"
          ],
          "name": "stdout"
        }
      ]
    },
    {
      "cell_type": "markdown",
      "metadata": {
        "colab_type": "text",
        "id": "JoykHLXpe82u"
      },
      "source": [
        "\n",
        "##\\#3 tokenization, lemmatization, stemming"
      ]
    },
    {
      "cell_type": "code",
      "metadata": {
        "colab_type": "code",
        "id": "0dMb1qCve82v",
        "colab": {}
      },
      "source": [
        "emails_raw=dataset.text\n",
        "emails_filtered=list()\n",
        "\n",
        "for n in range(len(dataset)):\n",
        "  tok = word_tokenize(emails_raw[n])  #tokenization\n",
        "  lem = [lemmatizer.lemmatize(x,pos = 'v') for x in tok] #lemmatization\n",
        "  #stop = [x for x in lem if x not in stopwords.words('english')] #stop words\n",
        "  stem = [stemmer.stem(x) for x in lem] #stemming\n",
        "  alpha = [x for x in stem if x.isalpha()]  #filter non words\n",
        "\n",
        "  emails_filtered.append(\" \".join(alpha))\n"
      ],
      "execution_count": 0,
      "outputs": []
    },
    {
      "cell_type": "markdown",
      "metadata": {
        "colab_type": "text",
        "id": "R1e1g5vue820"
      },
      "source": [
        "###TfidVectorizer\n"
      ]
    },
    {
      "cell_type": "code",
      "metadata": {
        "colab_type": "code",
        "id": "92h1ruiRe821",
        "colab": {}
      },
      "source": [
        "max_df=[.5, .6, .7, .75, .8, .85, .9]\n",
        "min_df=[10, 20, 30, 40, 50, 75, 100]\n",
        "alpha=[.001, .01, .1, .5, 1.0, 2.0]\n",
        "chosen_alpha=0\n",
        "chosen_maxdf=0\n",
        "chosen_mindf=0\n",
        "maximum_porc=0\n",
        "for minimo in min_df:\n",
        "  for maximo in max_df:\n",
        "\n",
        "    #TfidVectorizer\n",
        "    tfidf_vect = TfidfVectorizer(max_df=maximo, min_df=minimo)\n",
        "    raw_data = tfidf_vect.fit_transform(emails_filtered)\n",
        "    raw_data.toarray()\n",
        "\n",
        "    #Separo en train, validation, y test\n",
        "    X_train, X_testprima, y_train, y_testprima = train_test_split(raw_data, dataset['spam'], test_size=0.90)\n",
        "    X_val, X_test, y_val, y_test = train_test_split(X_testprima, y_testprima, test_size=0.5)\n",
        "\n",
        "    #entreno modelo\n",
        "    for alfa in alpha:\n",
        "      clf = MultinomialNB(alpha=alfa)\n",
        "      clf.fit(X_train, y_train)\n",
        "      #Analizo la precisión del modelo, con X_val e y_val\n",
        "      porc=sum(np.array(clf.predict(X_val.toarray()))==np.array(y_val))/len(y_val)*100\n",
        "      if porc>maximum_porc:\n",
        "        maximum_porc=porc  #guardo valores\n",
        "        chosen_alpha=alfa\n",
        "        chosen_maxdf=maximo\n",
        "        chosen_mindf=minimo"
      ],
      "execution_count": 0,
      "outputs": []
    },
    {
      "cell_type": "code",
      "metadata": {
        "colab_type": "code",
        "outputId": "3856f3a0-064f-4243-9e93-944716f5c017",
        "id": "VBPNRINWe825",
        "colab": {
          "base_uri": "https://localhost:8080/",
          "height": 134
        }
      },
      "source": [
        "print(\"Con tokenization, stop-words y stemming\")\n",
        "print(\"con TfidVectorizer\")\n",
        "print(\"alpha=\", chosen_alpha)\n",
        "print(\"max_df=\", chosen_maxdf)\n",
        "print(\"min_df=\", chosen_mindf)\n",
        "print(\"\")\n",
        "print(\"Rendimiento=\", maximum_porc)"
      ],
      "execution_count": 12,
      "outputs": [
        {
          "output_type": "stream",
          "text": [
            "Con tokenization, lemmatization y stemming\n",
            "con TfidVectorizer\n",
            "alpha= 0.1\n",
            "max_df= 0.85\n",
            "min_df= 10\n",
            "\n",
            "Rendimiento= 98.21567106283942\n"
          ],
          "name": "stdout"
        }
      ]
    },
    {
      "cell_type": "markdown",
      "metadata": {
        "colab_type": "text",
        "id": "3lz4HTbXe829"
      },
      "source": [
        "###CountVectorizer\n"
      ]
    },
    {
      "cell_type": "code",
      "metadata": {
        "colab_type": "code",
        "id": "OZECIfkxe82-",
        "colab": {}
      },
      "source": [
        "chosen_alpha=0\n",
        "chosen_maxdf=0\n",
        "chosen_mindf=0\n",
        "maximum_porc=0\n",
        "for minimo in min_df:\n",
        "  for maximo in max_df:\n",
        "\n",
        "    #Count Vectorizer\n",
        "\n",
        "    count_vect = CountVectorizer(max_df=maximo, min_df=minimo)\n",
        "    raw_data=count_vect.fit_transform(emails_filtered)\n",
        "    raw_data.toarray()\n",
        "\n",
        "    #Separo en train, validation, y test\n",
        "    X_train, X_testprima, y_train, y_testprima = train_test_split(raw_data, dataset['spam'], test_size=0.90)\n",
        "    X_val, X_test, y_val, y_test = train_test_split(X_testprima, y_testprima, test_size=0.5)\n",
        "\n",
        "    #entreno modelo\n",
        "    for alfa in alpha:\n",
        "      clf = MultinomialNB(alpha=alfa)\n",
        "      clf.fit(X_train, y_train)\n",
        "      #Analizo la precisión del modelo, con X_val e y_val\n",
        "      porc=sum(np.array(clf.predict(X_val.toarray()))==np.array(y_val))/len(y_val)*100\n",
        "      if porc>maximum_porc:\n",
        "        maximum_porc=porc  #guardo valores\n",
        "        chosen_alpha=alfa\n",
        "        chosen_maxdf=maximo\n",
        "        chosen_mindf=minimo"
      ],
      "execution_count": 0,
      "outputs": []
    },
    {
      "cell_type": "code",
      "metadata": {
        "colab_type": "code",
        "id": "T8QsxSgje83A",
        "colab": {
          "base_uri": "https://localhost:8080/",
          "height": 134
        },
        "outputId": "ee1f60f7-1a07-4c35-9405-1c531c7457ed"
      },
      "source": [
        "print(\"Con tokenization, stop-words y stemming\")\n",
        "print(\"con CountVectorizer\")\n",
        "print(\"alpha=\", chosen_alpha)\n",
        "print(\"max_df=\", chosen_maxdf)\n",
        "print(\"min_df=\", chosen_mindf)\n",
        "print(\"\")\n",
        "print(\"Rendimiento=\", maximum_porc)"
      ],
      "execution_count": 15,
      "outputs": [
        {
          "output_type": "stream",
          "text": [
            "Con tokenization, lemmatization y stemming\n",
            "con CountVectorizer\n",
            "alpha= 0.1\n",
            "max_df= 0.8\n",
            "min_df= 30\n",
            "\n",
            "Rendimiento= 98.7199379363848\n"
          ],
          "name": "stdout"
        }
      ]
    },
    {
      "cell_type": "code",
      "metadata": {
        "id": "wKEvdI7tGPUU",
        "colab_type": "code",
        "colab": {}
      },
      "source": [
        ""
      ],
      "execution_count": 0,
      "outputs": []
    },
    {
      "cell_type": "markdown",
      "metadata": {
        "colab_type": "text",
        "id": "CUYQj2ozGPku"
      },
      "source": [
        "\n",
        "##\\#4 tokenization, lemmatization, y stop-words"
      ]
    },
    {
      "cell_type": "code",
      "metadata": {
        "colab_type": "code",
        "id": "3JJjCsiDGPkx",
        "colab": {}
      },
      "source": [
        "emails_raw=dataset.text\n",
        "emails_filtered=list()\n",
        "\n",
        "for n in range(len(dataset)):\n",
        "  tok = word_tokenize(emails_raw[n])  #tokenization\n",
        "  lem = [lemmatizer.lemmatize(x,pos = 'v') for x in tok] #lemmatization\n",
        "  stop = [x for x in lem if x not in stopwords.words('english')] #stop words\n",
        "  #stem = [stemmer.stem(x) for x in stop] #stemming\n",
        "  alpha = [x for x in stop if x.isalpha()]  #filter non words\n",
        "\n",
        "  emails_filtered.append(\" \".join(alpha))\n"
      ],
      "execution_count": 0,
      "outputs": []
    },
    {
      "cell_type": "markdown",
      "metadata": {
        "colab_type": "text",
        "id": "DWkpQtm7GPk7"
      },
      "source": [
        "###TfidVectorizer\n"
      ]
    },
    {
      "cell_type": "code",
      "metadata": {
        "colab_type": "code",
        "id": "WsidAYH7GPk9",
        "colab": {}
      },
      "source": [
        "max_df=[.5, .6, .7, .75, .8, .85, .9]\n",
        "min_df=[10, 20, 30, 40, 50, 75, 100]\n",
        "alpha=[.001, .01, .1, .5, 1.0, 2.0]\n",
        "chosen_alpha=0\n",
        "chosen_maxdf=0\n",
        "chosen_mindf=0\n",
        "maximum_porc=0\n",
        "for minimo in min_df:\n",
        "  for maximo in max_df:\n",
        "\n",
        "    #TfidVectorizer\n",
        "    tfidf_vect = TfidfVectorizer(max_df=maximo, min_df=minimo)\n",
        "    raw_data = tfidf_vect.fit_transform(emails_filtered)\n",
        "    raw_data.toarray()\n",
        "\n",
        "    #Separo en train, validation, y test\n",
        "    X_train, X_testprima, y_train, y_testprima = train_test_split(raw_data, dataset['spam'], test_size=0.90)\n",
        "    X_val, X_test, y_val, y_test = train_test_split(X_testprima, y_testprima, test_size=0.5)\n",
        "\n",
        "    #entreno modelo\n",
        "    for alfa in alpha:\n",
        "      clf = MultinomialNB(alpha=alfa)\n",
        "      clf.fit(X_train, y_train)\n",
        "      #Analizo la precisión del modelo, con X_val e y_val\n",
        "      porc=sum(np.array(clf.predict(X_val.toarray()))==np.array(y_val))/len(y_val)*100\n",
        "      if porc>maximum_porc:\n",
        "        maximum_porc=porc  #guardo valores\n",
        "        chosen_alpha=alfa\n",
        "        chosen_maxdf=maximo\n",
        "        chosen_mindf=minimo"
      ],
      "execution_count": 0,
      "outputs": []
    },
    {
      "cell_type": "code",
      "metadata": {
        "colab_type": "code",
        "outputId": "5648f49b-93a0-4b21-8adc-6a68712e575e",
        "id": "VbzZJgriGPlJ",
        "colab": {
          "base_uri": "https://localhost:8080/",
          "height": 134
        }
      },
      "source": [
        "print(\"Con tokenization,lemmatization, y stop-words\")\n",
        "print(\"con TfidVectorizer\")\n",
        "print(\"alpha=\", chosen_alpha)\n",
        "print(\"max_df=\", chosen_maxdf)\n",
        "print(\"min_df=\", chosen_mindf)\n",
        "print(\"\")\n",
        "print(\"Rendimiento=\", maximum_porc)"
      ],
      "execution_count": 18,
      "outputs": [
        {
          "output_type": "stream",
          "text": [
            "Con tokenization, stop-words y stemming\n",
            "con TfidVectorizer\n",
            "alpha= 0.1\n",
            "max_df= 0.5\n",
            "min_df= 10\n",
            "\n",
            "Rendimiento= 98.33204034134988\n"
          ],
          "name": "stdout"
        }
      ]
    },
    {
      "cell_type": "markdown",
      "metadata": {
        "colab_type": "text",
        "id": "DD0CPOzEGPlX"
      },
      "source": [
        "###CountVectorizer\n"
      ]
    },
    {
      "cell_type": "code",
      "metadata": {
        "colab_type": "code",
        "id": "X7zHQPTOGPlZ",
        "colab": {}
      },
      "source": [
        "chosen_alpha=0\n",
        "chosen_maxdf=0\n",
        "chosen_mindf=0\n",
        "maximum_porc=0\n",
        "for minimo in min_df:\n",
        "  for maximo in max_df:\n",
        "\n",
        "    #Count Vectorizer\n",
        "\n",
        "    count_vect = CountVectorizer(max_df=maximo, min_df=minimo)\n",
        "    raw_data=count_vect.fit_transform(emails_filtered)\n",
        "    raw_data.toarray()\n",
        "\n",
        "    #Separo en train, validation, y test\n",
        "    X_train, X_testprima, y_train, y_testprima = train_test_split(raw_data, dataset['spam'], test_size=0.90)\n",
        "    X_val, X_test, y_val, y_test = train_test_split(X_testprima, y_testprima, test_size=0.5)\n",
        "\n",
        "    #entreno modelo\n",
        "    for alfa in alpha:\n",
        "      clf = MultinomialNB(alpha=alfa)\n",
        "      clf.fit(X_train, y_train)\n",
        "      #Analizo la precisión del modelo, con X_val e y_val\n",
        "      porc=sum(np.array(clf.predict(X_val.toarray()))==np.array(y_val))/len(y_val)*100\n",
        "      if porc>maximum_porc:\n",
        "        maximum_porc=porc  #guardo valores\n",
        "        chosen_alpha=alfa\n",
        "        chosen_maxdf=maximo\n",
        "        chosen_mindf=minimo"
      ],
      "execution_count": 0,
      "outputs": []
    },
    {
      "cell_type": "code",
      "metadata": {
        "colab_type": "code",
        "outputId": "4b98d5d2-d7c7-4f7f-8bef-26d41ad7d95b",
        "id": "jqZmf2W_GPln",
        "colab": {
          "base_uri": "https://localhost:8080/",
          "height": 134
        }
      },
      "source": [
        "print(\"Con tokenization,lemmatization, y stop-words\")\n",
        "print(\"con CountVectorizer\")\n",
        "print(\"alpha=\", chosen_alpha)\n",
        "print(\"max_df=\", chosen_maxdf)\n",
        "print(\"min_df=\", chosen_mindf)\n",
        "print(\"\")\n",
        "print(\"Rendimiento=\", maximum_porc)"
      ],
      "execution_count": 20,
      "outputs": [
        {
          "output_type": "stream",
          "text": [
            "Con tokenization, stop-words y stemming\n",
            "con CountVectorizer\n",
            "alpha= 0.1\n",
            "max_df= 0.85\n",
            "min_df= 20\n",
            "\n",
            "Rendimiento= 98.52598913886735\n"
          ],
          "name": "stdout"
        }
      ]
    },
    {
      "cell_type": "markdown",
      "metadata": {
        "colab_type": "text",
        "id": "0BznmeCDHkkZ"
      },
      "source": [
        "\n",
        "##\\#5 tokenization y lemmatization"
      ]
    },
    {
      "cell_type": "code",
      "metadata": {
        "colab_type": "code",
        "id": "5GpkyEUlHkkc",
        "colab": {}
      },
      "source": [
        "emails_raw=dataset.text\n",
        "emails_filtered=list()\n",
        "\n",
        "for n in range(len(dataset)):\n",
        "  tok = word_tokenize(emails_raw[n])  #tokenization\n",
        "  lem = [lemmatizer.lemmatize(x,pos = 'v') for x in tok] #lemmatization\n",
        "  #stop = [x for x in lem if x not in stopwords.words('english')] #stop words\n",
        "  #stem = [stemmer.stem(x) for x in stop] #stemming\n",
        "  alpha = [x for x in lem if x.isalpha()]  #filter non words\n",
        "\n",
        "  emails_filtered.append(\" \".join(alpha))\n"
      ],
      "execution_count": 0,
      "outputs": []
    },
    {
      "cell_type": "markdown",
      "metadata": {
        "colab_type": "text",
        "id": "EFUE4qZ1Hkkm"
      },
      "source": [
        "###TfidVectorizer\n"
      ]
    },
    {
      "cell_type": "code",
      "metadata": {
        "colab_type": "code",
        "id": "_yma1xxSHkkp",
        "colab": {}
      },
      "source": [
        "max_df=[.5, .6, .7, .75, .8, .85, .9]\n",
        "min_df=[10, 20, 30, 40, 50, 75, 100]\n",
        "alpha=[.001, .01, .1, .5, 1.0, 2.0]\n",
        "chosen_alpha=0\n",
        "chosen_maxdf=0\n",
        "chosen_mindf=0\n",
        "maximum_porc=0\n",
        "for minimo in min_df:\n",
        "  for maximo in max_df:\n",
        "\n",
        "    #TfidVectorizer\n",
        "    tfidf_vect = TfidfVectorizer(max_df=maximo, min_df=minimo)\n",
        "    raw_data = tfidf_vect.fit_transform(emails_filtered)\n",
        "    raw_data.toarray()\n",
        "\n",
        "    #Separo en train, validation, y test\n",
        "    X_train, X_testprima, y_train, y_testprima = train_test_split(raw_data, dataset['spam'], test_size=0.90)\n",
        "    X_val, X_test, y_val, y_test = train_test_split(X_testprima, y_testprima, test_size=0.5)\n",
        "\n",
        "    #entreno modelo\n",
        "    for alfa in alpha:\n",
        "      clf = MultinomialNB(alpha=alfa)\n",
        "      clf.fit(X_train, y_train)\n",
        "      #Analizo la precisión del modelo, con X_val e y_val\n",
        "      porc=sum(np.array(clf.predict(X_val.toarray()))==np.array(y_val))/len(y_val)*100\n",
        "      if porc>maximum_porc:\n",
        "        maximum_porc=porc  #guardo valores\n",
        "        chosen_alpha=alfa\n",
        "        chosen_maxdf=maximo\n",
        "        chosen_mindf=minimo"
      ],
      "execution_count": 0,
      "outputs": []
    },
    {
      "cell_type": "code",
      "metadata": {
        "colab_type": "code",
        "outputId": "68fc82e5-dbd0-456c-bd32-f795676c2898",
        "id": "cxMj9UuhHkkx",
        "colab": {
          "base_uri": "https://localhost:8080/",
          "height": 134
        }
      },
      "source": [
        "print(\"Con tokenization, y lemmatization\")\n",
        "print(\"con TfidVectorizer\")\n",
        "print(\"alpha=\", chosen_alpha)\n",
        "print(\"max_df=\", chosen_maxdf)\n",
        "print(\"min_df=\", chosen_mindf)\n",
        "print(\"\")\n",
        "print(\"Rendimiento=\", maximum_porc)"
      ],
      "execution_count": 23,
      "outputs": [
        {
          "output_type": "stream",
          "text": [
            "Con tokenization, y lemmatization\n",
            "con TfidVectorizer\n",
            "alpha= 0.1\n",
            "max_df= 0.8\n",
            "min_df= 20\n",
            "\n",
            "Rendimiento= 98.37083010085338\n"
          ],
          "name": "stdout"
        }
      ]
    },
    {
      "cell_type": "markdown",
      "metadata": {
        "colab_type": "text",
        "id": "j5SdniKjHkk8"
      },
      "source": [
        "###CountVectorizer\n"
      ]
    },
    {
      "cell_type": "code",
      "metadata": {
        "colab_type": "code",
        "id": "XCyVxUp4Hkk-",
        "colab": {}
      },
      "source": [
        "chosen_alpha=0\n",
        "chosen_maxdf=0\n",
        "chosen_mindf=0\n",
        "maximum_porc=0\n",
        "for minimo in min_df:\n",
        "  for maximo in max_df:\n",
        "\n",
        "    #Count Vectorizer\n",
        "\n",
        "    count_vect = CountVectorizer(max_df=maximo, min_df=minimo)\n",
        "    raw_data=count_vect.fit_transform(emails_filtered)\n",
        "    raw_data.toarray()\n",
        "\n",
        "    #Separo en train, validation, y test\n",
        "    X_train, X_testprima, y_train, y_testprima = train_test_split(raw_data, dataset['spam'], test_size=0.90)\n",
        "    X_val, X_test, y_val, y_test = train_test_split(X_testprima, y_testprima, test_size=0.5)\n",
        "\n",
        "    #entreno modelo\n",
        "    for alfa in alpha:\n",
        "      clf = MultinomialNB(alpha=alfa)\n",
        "      clf.fit(X_train, y_train)\n",
        "      #Analizo la precisión del modelo, con X_val e y_val\n",
        "      porc=sum(np.array(clf.predict(X_val.toarray()))==np.array(y_val))/len(y_val)*100\n",
        "      if porc>maximum_porc:\n",
        "        maximum_porc=porc  #guardo valores\n",
        "        chosen_alpha=alfa\n",
        "        chosen_maxdf=maximo\n",
        "        chosen_mindf=minimo"
      ],
      "execution_count": 0,
      "outputs": []
    },
    {
      "cell_type": "code",
      "metadata": {
        "colab_type": "code",
        "outputId": "18b8204c-b1c8-47f4-b269-5d984393a63a",
        "id": "hN_91ro3HklH",
        "colab": {
          "base_uri": "https://localhost:8080/",
          "height": 134
        }
      },
      "source": [
        "print(\"Con tokenization, y lemmatization\")\n",
        "print(\"con Count Vectorizer\")\n",
        "print(\"alpha=\", chosen_alpha)\n",
        "print(\"max_df=\", chosen_maxdf)\n",
        "print(\"min_df=\", chosen_mindf)\n",
        "print(\"\")\n",
        "print(\"Rendimiento=\", maximum_porc)"
      ],
      "execution_count": 25,
      "outputs": [
        {
          "output_type": "stream",
          "text": [
            "Con tokenization, y lemmatization\n",
            "con TfidVectorizer\n",
            "alpha= 0.01\n",
            "max_df= 0.5\n",
            "min_df= 30\n",
            "\n",
            "Rendimiento= 98.79751745539178\n"
          ],
          "name": "stdout"
        }
      ]
    },
    {
      "cell_type": "markdown",
      "metadata": {
        "colab_type": "text",
        "id": "6kJYMaJPH2_u"
      },
      "source": [
        "\n",
        "##\\#6 tokenization y stop-words"
      ]
    },
    {
      "cell_type": "code",
      "metadata": {
        "colab_type": "code",
        "id": "O20Zs0FOH2_3",
        "colab": {}
      },
      "source": [
        "emails_raw=dataset.text\n",
        "emails_filtered=list()\n",
        "\n",
        "for n in range(len(dataset)):\n",
        "  tok = word_tokenize(emails_raw[n])  #tokenization\n",
        "  #lem = [lemmatizer.lemmatize(x,pos = 'v') for x in tok] #lemmatization\n",
        "  stop = [x for x in tok if x not in stopwords.words('english')] #stop words\n",
        "  #stem = [stemmer.stem(x) for x in stop] #stemming\n",
        "  alpha = [x for x in stop if x.isalpha()]  #filter non words\n",
        "\n",
        "  emails_filtered.append(\" \".join(alpha))\n"
      ],
      "execution_count": 0,
      "outputs": []
    },
    {
      "cell_type": "markdown",
      "metadata": {
        "colab_type": "text",
        "id": "5JLt5nDtH3AE"
      },
      "source": [
        "###TfidVectorizer\n"
      ]
    },
    {
      "cell_type": "code",
      "metadata": {
        "colab_type": "code",
        "id": "pPb0KBLJH3AG",
        "colab": {}
      },
      "source": [
        "max_df=[.5, .6, .7, .75, .8, .85, .9]\n",
        "min_df=[10, 20, 30, 40, 50, 75, 100]\n",
        "alpha=[.001, .01, .1, .5, 1.0, 2.0]\n",
        "chosen_alpha=0\n",
        "chosen_maxdf=0\n",
        "chosen_mindf=0\n",
        "maximum_porc=0\n",
        "for minimo in min_df:\n",
        "  for maximo in max_df:\n",
        "\n",
        "    #TfidVectorizer\n",
        "    tfidf_vect = TfidfVectorizer(max_df=maximo, min_df=minimo)\n",
        "    raw_data = tfidf_vect.fit_transform(emails_filtered)\n",
        "    raw_data.toarray()\n",
        "\n",
        "    #Separo en train, validation, y test\n",
        "    X_train, X_testprima, y_train, y_testprima = train_test_split(raw_data, dataset['spam'], test_size=0.90)\n",
        "    X_val, X_test, y_val, y_test = train_test_split(X_testprima, y_testprima, test_size=0.5)\n",
        "\n",
        "    #entreno modelo\n",
        "    for alfa in alpha:\n",
        "      clf = MultinomialNB(alpha=alfa)\n",
        "      clf.fit(X_train, y_train)\n",
        "      #Analizo la precisión del modelo, con X_val e y_val\n",
        "      porc=sum(np.array(clf.predict(X_val.toarray()))==np.array(y_val))/len(y_val)*100\n",
        "      if porc>maximum_porc:\n",
        "        maximum_porc=porc  #guardo valores\n",
        "        chosen_alpha=alfa\n",
        "        chosen_maxdf=maximo\n",
        "        chosen_mindf=minimo"
      ],
      "execution_count": 0,
      "outputs": []
    },
    {
      "cell_type": "code",
      "metadata": {
        "colab_type": "code",
        "outputId": "f385d57e-2a6f-4014-ef04-ba1731d6c6c9",
        "id": "hPpEAaPiH3AQ",
        "colab": {
          "base_uri": "https://localhost:8080/",
          "height": 134
        }
      },
      "source": [
        "print(\"Con tokenization, y stop-words\")\n",
        "print(\"con TfidVectorizer\")\n",
        "print(\"alpha=\", chosen_alpha)\n",
        "print(\"max_df=\", chosen_maxdf)\n",
        "print(\"min_df=\", chosen_mindf)\n",
        "print(\"\")\n",
        "print(\"Rendimiento=\", maximum_porc)"
      ],
      "execution_count": 28,
      "outputs": [
        {
          "output_type": "stream",
          "text": [
            "Con tokenization, y stop-words\n",
            "con TfidVectorizer\n",
            "alpha= 0.1\n",
            "max_df= 0.9\n",
            "min_df= 10\n",
            "\n",
            "Rendimiento= 98.13809154383243\n"
          ],
          "name": "stdout"
        }
      ]
    },
    {
      "cell_type": "markdown",
      "metadata": {
        "colab_type": "text",
        "id": "afO5_It8H3Aa"
      },
      "source": [
        "###CountVectorizer\n"
      ]
    },
    {
      "cell_type": "code",
      "metadata": {
        "colab_type": "code",
        "id": "mCUDxevWH3Ac",
        "colab": {}
      },
      "source": [
        "chosen_alpha=0\n",
        "chosen_maxdf=0\n",
        "chosen_mindf=0\n",
        "maximum_porc=0\n",
        "for minimo in min_df:\n",
        "  for maximo in max_df:\n",
        "\n",
        "    #Count Vectorizer\n",
        "\n",
        "    count_vect = CountVectorizer(max_df=maximo, min_df=minimo)\n",
        "    raw_data=count_vect.fit_transform(emails_filtered)\n",
        "    raw_data.toarray()\n",
        "\n",
        "    #Separo en train, validation, y test\n",
        "    X_train, X_testprima, y_train, y_testprima = train_test_split(raw_data, dataset['spam'], test_size=0.90)\n",
        "    X_val, X_test, y_val, y_test = train_test_split(X_testprima, y_testprima, test_size=0.5)\n",
        "\n",
        "    #entreno modelo\n",
        "    for alfa in alpha:\n",
        "      clf = MultinomialNB(alpha=alfa)\n",
        "      clf.fit(X_train, y_train)\n",
        "      #Analizo la precisión del modelo, con X_val e y_val\n",
        "      porc=sum(np.array(clf.predict(X_val.toarray()))==np.array(y_val))/len(y_val)*100\n",
        "      if porc>maximum_porc:\n",
        "        maximum_porc=porc  #guardo valores\n",
        "        chosen_alpha=alfa\n",
        "        chosen_maxdf=maximo\n",
        "        chosen_mindf=minimo"
      ],
      "execution_count": 0,
      "outputs": []
    },
    {
      "cell_type": "code",
      "metadata": {
        "colab_type": "code",
        "outputId": "9c7b8a79-f7e4-4722-bb71-0467aad2020d",
        "id": "_jfcO7HwH3Am",
        "colab": {
          "base_uri": "https://localhost:8080/",
          "height": 134
        }
      },
      "source": [
        "print(\"Con tokenization, y stop-words\")\n",
        "print(\"con CountVectorizer\")\n",
        "print(\"alpha=\", chosen_alpha)\n",
        "print(\"max_df=\", chosen_maxdf)\n",
        "print(\"min_df=\", chosen_mindf)\n",
        "print(\"\")\n",
        "print(\"Rendimiento=\", maximum_porc)"
      ],
      "execution_count": 30,
      "outputs": [
        {
          "output_type": "stream",
          "text": [
            "Con tokenization, y stop-words\n",
            "con TfidVectorizer\n",
            "alpha= 0.1\n",
            "max_df= 0.5\n",
            "min_df= 10\n",
            "\n",
            "Rendimiento= 98.40961986035687\n"
          ],
          "name": "stdout"
        }
      ]
    },
    {
      "cell_type": "markdown",
      "metadata": {
        "colab_type": "text",
        "id": "E7ei_bgMIBII"
      },
      "source": [
        "\n",
        "##\\#7 tokenization y stemming"
      ]
    },
    {
      "cell_type": "code",
      "metadata": {
        "colab_type": "code",
        "id": "_0-wQKAxIBIK",
        "colab": {}
      },
      "source": [
        "emails_raw=dataset.text\n",
        "emails_filtered=list()\n",
        "\n",
        "for n in range(len(dataset)):\n",
        "  tok = word_tokenize(emails_raw[n])  #tokenization\n",
        "  #lem = [lemmatizer.lemmatize(x,pos = 'v') for x in tok] #lemmatization\n",
        "  #stop = [x for x in lem if x not in stopwords.words('english')] #stop words\n",
        "  stem = [stemmer.stem(x) for x in tok] #stemming\n",
        "  alpha = [x for x in stem if x.isalpha()]  #filter non words\n",
        "\n",
        "  emails_filtered.append(\" \".join(alpha))\n"
      ],
      "execution_count": 0,
      "outputs": []
    },
    {
      "cell_type": "markdown",
      "metadata": {
        "colab_type": "text",
        "id": "3Pa70N8mIBIW"
      },
      "source": [
        "###TfidVectorizer\n"
      ]
    },
    {
      "cell_type": "code",
      "metadata": {
        "colab_type": "code",
        "id": "8VIPxcRnIBIY",
        "colab": {}
      },
      "source": [
        "max_df=[.5, .6, .7, .75, .8, .85, .9]\n",
        "min_df=[10, 20, 30, 40, 50, 75, 100]\n",
        "alpha=[.001, .01, .1, .5, 1.0, 2.0]\n",
        "chosen_alpha=0\n",
        "chosen_maxdf=0\n",
        "chosen_mindf=0\n",
        "maximum_porc=0\n",
        "for minimo in min_df:\n",
        "  for maximo in max_df:\n",
        "\n",
        "    #TfidVectorizer\n",
        "    tfidf_vect = TfidfVectorizer(max_df=maximo, min_df=minimo)\n",
        "    raw_data = tfidf_vect.fit_transform(emails_filtered)\n",
        "    raw_data.toarray()\n",
        "\n",
        "    #Separo en train, validation, y test\n",
        "    X_train, X_testprima, y_train, y_testprima = train_test_split(raw_data, dataset['spam'], test_size=0.90)\n",
        "    X_val, X_test, y_val, y_test = train_test_split(X_testprima, y_testprima, test_size=0.5)\n",
        "\n",
        "    #entreno modelo\n",
        "    for alfa in alpha:\n",
        "      clf = MultinomialNB(alpha=alfa)\n",
        "      clf.fit(X_train, y_train)\n",
        "      #Analizo la precisión del modelo, con X_val e y_val\n",
        "      porc=sum(np.array(clf.predict(X_val.toarray()))==np.array(y_val))/len(y_val)*100\n",
        "      if porc>maximum_porc:\n",
        "        maximum_porc=porc  #guardo valores\n",
        "        chosen_alpha=alfa\n",
        "        chosen_maxdf=maximo\n",
        "        chosen_mindf=minimo"
      ],
      "execution_count": 0,
      "outputs": []
    },
    {
      "cell_type": "code",
      "metadata": {
        "colab_type": "code",
        "outputId": "b5007b48-f487-4641-9c6e-a96e5c6dc525",
        "id": "BCePZqU5IBIh",
        "colab": {
          "base_uri": "https://localhost:8080/",
          "height": 134
        }
      },
      "source": [
        "print(\"Con tokenization, y stemming\")\n",
        "print(\"con TfidVectorizer\")\n",
        "print(\"alpha=\", chosen_alpha)\n",
        "print(\"max_df=\", chosen_maxdf)\n",
        "print(\"min_df=\", chosen_mindf)\n",
        "print(\"\")\n",
        "print(\"Rendimiento=\", maximum_porc)"
      ],
      "execution_count": 33,
      "outputs": [
        {
          "output_type": "stream",
          "text": [
            "Con tokenization, y stemming\n",
            "con TfidVectorizer\n",
            "alpha= 0.1\n",
            "max_df= 0.6\n",
            "min_df= 20\n",
            "\n",
            "Rendimiento= 98.2544608223429\n"
          ],
          "name": "stdout"
        }
      ]
    },
    {
      "cell_type": "markdown",
      "metadata": {
        "colab_type": "text",
        "id": "SrjZvxDpIBIq"
      },
      "source": [
        "###CountVectorizer\n"
      ]
    },
    {
      "cell_type": "code",
      "metadata": {
        "colab_type": "code",
        "id": "CimMWRf9IBIx",
        "colab": {}
      },
      "source": [
        "chosen_alpha=0\n",
        "chosen_maxdf=0\n",
        "chosen_mindf=0\n",
        "maximum_porc=0\n",
        "for minimo in min_df:\n",
        "  for maximo in max_df:\n",
        "\n",
        "    #Count Vectorizer\n",
        "\n",
        "    count_vect = CountVectorizer(max_df=maximo, min_df=minimo)\n",
        "    raw_data=count_vect.fit_transform(emails_filtered)\n",
        "    raw_data.toarray()\n",
        "\n",
        "    #Separo en train, validation, y test\n",
        "    X_train, X_testprima, y_train, y_testprima = train_test_split(raw_data, dataset['spam'], test_size=0.90)\n",
        "    X_val, X_test, y_val, y_test = train_test_split(X_testprima, y_testprima, test_size=0.5)\n",
        "\n",
        "    #entreno modelo\n",
        "    for alfa in alpha:\n",
        "      clf = MultinomialNB(alpha=alfa)\n",
        "      clf.fit(X_train, y_train)\n",
        "      #Analizo la precisión del modelo, con X_val e y_val\n",
        "      porc=sum(np.array(clf.predict(X_val.toarray()))==np.array(y_val))/len(y_val)*100\n",
        "      if porc>maximum_porc:\n",
        "        maximum_porc=porc  #guardo valores\n",
        "        chosen_alpha=alfa\n",
        "        chosen_maxdf=maximo\n",
        "        chosen_mindf=minimo"
      ],
      "execution_count": 0,
      "outputs": []
    },
    {
      "cell_type": "code",
      "metadata": {
        "colab_type": "code",
        "outputId": "68229533-f0e7-44d7-be10-72cac9e585b9",
        "id": "opqka6ipIBI5",
        "colab": {
          "base_uri": "https://localhost:8080/",
          "height": 134
        }
      },
      "source": [
        "print(\"Con tokenization, y stemming\")\n",
        "print(\"con CountVectorizer\")\n",
        "print(\"alpha=\", chosen_alpha)\n",
        "print(\"max_df=\", chosen_maxdf)\n",
        "print(\"min_df=\", chosen_mindf)\n",
        "print(\"\")\n",
        "print(\"Rendimiento=\", maximum_porc)"
      ],
      "execution_count": 35,
      "outputs": [
        {
          "output_type": "stream",
          "text": [
            "Con tokenization, y stemming\n",
            "con TfidVectorizer\n",
            "alpha= 0.1\n",
            "max_df= 0.9\n",
            "min_df= 10\n",
            "\n",
            "Rendimiento= 98.7199379363848\n"
          ],
          "name": "stdout"
        }
      ]
    },
    {
      "cell_type": "markdown",
      "metadata": {
        "id": "a8X3HeUnKU6Q",
        "colab_type": "text"
      },
      "source": [
        "#Resultados y modelo elegido\n"
      ]
    },
    {
      "cell_type": "markdown",
      "metadata": {
        "id": "mqcw3ZcUKZ7T",
        "colab_type": "text"
      },
      "source": [
        "Con todo lo analizado anteriormente, se procede a copiar los resultados obtenidos y elegir el modelo para utilizar sobre X_test e y_test"
      ]
    },
    {
      "cell_type": "markdown",
      "metadata": {
        "id": "SzTOt98GNKrN",
        "colab_type": "text"
      },
      "source": [
        "*   Con tokenization, lemmatization, stop-words y stemming\n",
        "  *   con TfidVectorizer: alpha= 0.01, max_df= 0.7, min_df= 10\n",
        "      *   Rendimiento= 98.44840961986036\n",
        "  *   con CountVectorizer: alpha= 0.1, max_df= 0.75, min_df= 10\n",
        "      *   Rendimiento= 98.56477889837083"
      ]
    },
    {
      "cell_type": "markdown",
      "metadata": {
        "id": "bYudx3k0NR-Y",
        "colab_type": "text"
      },
      "source": [
        "*   Con tokenization, stop-words y stemming\n",
        "  *   con TfidVectorizer: alpha= 0.1, max_df= 0.75, min_df= 30\n",
        "      *   Rendimiento= 98.09930178432894\n",
        "  *   con CountVectorizer: alpha= 0.1, max_df= 0.5, min_df= 10\n",
        "      *   Rendimiento= 98.48719937936384"
      ]
    },
    {
      "cell_type": "markdown",
      "metadata": {
        "id": "lnwJ9H-kO3HU",
        "colab_type": "text"
      },
      "source": [
        "*   Con tokenization, lemmatization y stemming\n",
        "  *   con TfidVectorizer: alpha= 0.1, max_df= 0.85, min_df= 10\n",
        "      *   Rendimiento= 98.21567106283942\n",
        "  *   con CountVectorizer: alpha= 0.1, max_df= 0.8, min_df= 30\n",
        "      *   Rendimiento= 98.7199379363848"
      ]
    },
    {
      "cell_type": "markdown",
      "metadata": {
        "id": "9Njv-WqhPGRL",
        "colab_type": "text"
      },
      "source": [
        "*   Con tokenization, stop-words y stemming\n",
        "  *   con TfidVectorizer: alpha= 0.1, max_df= 0.5, min_df= 10\n",
        "      *   Rendimiento= 98.33204034134988\n",
        "  *   con CountVectorizer: alpha= 0.1, max_df= 0.85, min_df= 20\n",
        "      *   Rendimiento= 98.52598913886735"
      ]
    },
    {
      "cell_type": "markdown",
      "metadata": {
        "id": "ATnqIfslPRcc",
        "colab_type": "text"
      },
      "source": [
        "*   Con tokenization, y lemmatization\n",
        "  *   con TfidVectorizer: alpha= 0.1, max_df= 0.8, min_df= 20\n",
        "      *   Rendimiento= 98.37083010085338\n",
        "  *   con CountVectorizer: alpha= 0.01, max_df= 0.5, min_df= 30\n",
        "      *   Rendimiento= 98.79751745539178"
      ]
    },
    {
      "cell_type": "markdown",
      "metadata": {
        "id": "w6PvEMEuPcPy",
        "colab_type": "text"
      },
      "source": [
        "*   Con tokenization, y stop-words\n",
        "  *   con TfidVectorizer: alpha= 0.1, max_df= 0.9, min_df= 10\n",
        "      *   Rendimiento= 98.13809154383243\n",
        "  *   con CountVectorizer: alpha= 0.1, max_df= 0.9, min_df= 10\n",
        "      *   Rendimiento= 98.40961986035687"
      ]
    },
    {
      "cell_type": "markdown",
      "metadata": {
        "id": "YXIkuItHPly2",
        "colab_type": "text"
      },
      "source": [
        "*   Con tokenization, y stemming\n",
        "  *   con TfidVectorizer: alpha= 0.1, max_df= 0.6, min_df= 20\n",
        "      *   Rendimiento= 98.2544608223429\n",
        "  *   con CountVectorizer: alpha= 0.1, max_df= 0.9, min_df= 10\n",
        "      *   Rendimiento= 98.7199379363848"
      ]
    },
    {
      "cell_type": "markdown",
      "metadata": {
        "id": "ZvzNJxfgQAsl",
        "colab_type": "text"
      },
      "source": [
        "##Test sobre el modelo elegido\n",
        "\n"
      ]
    },
    {
      "cell_type": "markdown",
      "metadata": {
        "id": "2Za9XZViQW3q",
        "colab_type": "text"
      },
      "source": [
        "Se decidió utilizar el modelo con el que se obtuvo el mayor porcentaje, este fue: \n",
        "\n",
        "Con tokenization, y lemmatization, countVectorizer y los siguientes parámetros:\n",
        "\n",
        "alpha= 0.01, max_df= 0.5, min_df= 30.\n",
        "\n",
        "Cabe aclarar que se esperaba que los resultados fueran mejores al usar TfidVectorizer que CountVectorizer, pero los resultados obtenidos fueron opuestos, es decir, se obtuvieron mejores con CountVectorizer."
      ]
    },
    {
      "cell_type": "code",
      "metadata": {
        "colab_type": "code",
        "id": "mUE9mFaVQ9gJ",
        "colab": {}
      },
      "source": [
        "emails_raw=dataset.text\n",
        "emails_filtered=list()\n",
        "\n",
        "for n in range(len(dataset)):\n",
        "  tok = word_tokenize(emails_raw[n])  #tokenization\n",
        "  lem = [lemmatizer.lemmatize(x,pos = 'v') for x in tok] #lemmatization\n",
        "  alpha = [x for x in lem if x.isalpha()]  #filter non words\n",
        "\n",
        "  emails_filtered.append(\" \".join(alpha))\n"
      ],
      "execution_count": 0,
      "outputs": []
    },
    {
      "cell_type": "code",
      "metadata": {
        "colab_type": "code",
        "id": "wWBTHIX4Q9gP",
        "colab": {
          "base_uri": "https://localhost:8080/",
          "height": 34
        },
        "outputId": "15a52483-d135-4213-f171-1afe95d742a5"
      },
      "source": [
        "#Count Vectorizer\n",
        "\n",
        "count_vect = CountVectorizer(max_df=.5, min_df=30)\n",
        "raw_data=count_vect.fit_transform(emails_filtered)\n",
        "raw_data.toarray()\n",
        "\n",
        "#Separo en train, validation, y test\n",
        "X_train, X_testprima, y_train, y_testprima = train_test_split(raw_data, dataset['spam'], test_size=0.90)\n",
        "X_val, X_test, y_val, y_test = train_test_split(X_testprima, y_testprima, test_size=0.5)\n",
        "\n",
        "#entreno modelo\n",
        "clf = MultinomialNB(alpha=0.01)\n",
        "clf.fit(X_train, y_train)\n",
        "#Analizo la precisión del modelo, con X_test e y_test\n",
        "porc=sum(np.array(clf.predict(X_test.toarray()))==np.array(y_test))/len(y_test)*100\n",
        "f'El porcentaje de emails clasificados correctamente es de {porc}%'"
      ],
      "execution_count": 42,
      "outputs": [
        {
          "output_type": "execute_result",
          "data": {
            "text/plain": [
              "'El porcentaje de emails clasificados correctamente es de 97.59503491078355%'"
            ]
          },
          "metadata": {
            "tags": []
          },
          "execution_count": 42
        }
      ]
    },
    {
      "cell_type": "markdown",
      "metadata": {
        "id": "LW0YV4FLRiRw",
        "colab_type": "text"
      },
      "source": [
        "Como era esperado, al usar el modelo en los datos reservados para test, el porcentaje de emails clasificados es menor a cuando se usa sobre los datos de validación (98.7% vs 97.6%)."
      ]
    }
  ]
}